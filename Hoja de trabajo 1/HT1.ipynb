{
 "cells": [
  {
   "attachments": {},
   "cell_type": "markdown",
   "metadata": {},
   "source": [
    "# **Hoja de Trabajo 1**"
   ]
  },
  {
   "attachments": {},
   "cell_type": "markdown",
   "metadata": {},
   "source": [
    "## Version Control Systems\n",
    "Consiste en un sistema que funciona tomando \"eventos\" del desarrollo de un código o proyecto\n",
    "\n"
   ]
  },
  {
   "attachments": {},
   "cell_type": "markdown",
   "metadata": {},
   "source": [
    "### Estructura de GIT\n",
    "\n",
    "Git funciona como una estructura de *arbol* donde todas las carpetas son consideradas un *arbol* mientras que los archivos dentro de cada carpeta son considerados un *blob*\n",
    "\n",
    "De esta manera podemos tener arboles que contienen arboles que contienen blobs\n",
    "\n",
    "Ejemplo:\n",
    "\n",
    "<img src=\"https://4.bp.blogspot.com/-jMJmo_Imyfo/Xl5JNRga9cI/AAAAAAAAAXA/_PzR3CPGpPkMuhQ1SEWV0D-qnv0WFzn6ACK4BGAYYCw/s1600/1.tree.png\" width=20%>"
   ]
  },
  {
   "attachments": {},
   "cell_type": "markdown",
   "metadata": {},
   "source": [
    "### Snapshots\n",
    "El término de *Snapshot* o *evento* dentro de la estructura de GIT no difiere mucho de lo que sería una copia del proyecto en que estamos trabajando. No muy distinto a lo que ocurre cuando hacemos esto:\n",
    "\n",
    "<img src=\"https://images3.memedroid.com/images/UPLOADED433/5d4f18ee29b2e.jpeg\"  width=50% height=50%>\n",
    "\n",
    "Para GIT esto corresponde a una copia del árbol principal (el cual en teoría contiene todas las carpetas y archivos de nuestro proyecto). Sin embargo GIT cuenta con funcionalidades y arreglos que lo hacen muy superior a seguir nombrando nuestros proyectos como *...RevisadoFinal <sup>n</sup>*."
   ]
  },
  {
   "attachments": {},
   "cell_type": "markdown",
   "metadata": {},
   "source": [
    "### Linea de tiempo\n",
    "\n",
    "Podemos definir la línea de tiempo de GIT como una serie de *Snapshots* tomados a lo largo del tiempo, así como los fotogramas de un video. Cada uno de estos snapshots es lo que consideramos un *Commit*.\n",
    "\n",
    "La ventaja de la estructura de GIT es que permite *partir* esa línea temporal.\n",
    "\n",
    "<img src=\"https://mysteryplanet.com.ar/site/wp-content/uploads/2021/07/universe-branches.jpg\" width=50% height=50%>\n",
    "\n",
    "La mejor analogía podría ser trabajar en una versión anterior a la versión final del proyecto, por alguna razón en específico. Puede ser para desarrollar alguna función que quedó descartada o porque se presenta un problema y es necesario trazar hasta donde el proyecto funciona correctamente.\n",
    "\n",
    "En este caso GIT llevá un control de los cambios realizados a cada *tree* y cada *blob* debtro del árbol principal. Sin embargo su utilidad no se limita en detectar si ha habido un cambio, sino va más allá a:\n",
    "\n",
    "* Detectar *blob* nuevos dentro de cada tree\n",
    "* Reconocer los cambios en *tree* existentes\n",
    "* Actualizar los *tree* con los blob nuevos\n",
    "* Actualizar los *blob* con los cambios realizados\n",
    "* Fusionar uno o varios *blob* con cambios en paralelo\n",
    "\n",
    "De esta forma no tenemos una línea de tiempo partida con infinitos resultados, sino más como una línea de tiempo que converge una o varias veces para resumir todos los cambios en paralelo realizados.\n",
    "\n",
    "<img src=\"https://joefleming.net/images/posts/git-flow-timeline.png\">\n"
   ]
  },
  {
   "attachments": {},
   "cell_type": "markdown",
   "metadata": {},
   "source": [
    "### Objetos en GIT\n",
    "\n",
    "Los objetos en GIT son identificados por su código hash (SHA-1 hash) que es una secuencia hexadecimal de 40 caracteres. Estos objetos son:\n",
    "\n",
    "* Trees\n",
    "* Blobs\n",
    "* Commits\n",
    "\n",
    "<img src=\"https://git-scm.com/book/en/v2/images/data-model-3.png\">\n",
    "\n",
    "Se puede referenciar cada uno de los objetos llamandolos por su codigo hash, aunque es muy inconveniente. Sería más conveniente referenciarlos utilizando nombres comunes como *master* , *head* , *branch1*, etc."
   ]
  },
  {
   "cell_type": "code",
   "execution_count": 6,
   "metadata": {},
   "outputs": [
    {
     "name": "stdout",
     "output_type": "stream",
     "text": [
      "tree 34e818d320a6e01009f66d8e512b5813218d21dc\n",
      "parent df3dfdcc3d1ab003339a97b5d4ccdd9242f9ee14\n",
      "author Pablo Aldana <pablo.aldanaveliz@galileo.edu> 1676239577 -0600\n",
      "committer Pablo Aldana <pablo.aldanaveliz@galileo.edu> 1676239577 -0600\n",
      "\n",
      "Se ha avanzado en el ensayo\n",
      "Se agrego el archivo prueba.txt para probar comandos de git\n"
     ]
    }
   ],
   "source": [
    "! git cat-file -p f057ed9"
   ]
  },
  {
   "cell_type": "code",
   "execution_count": 9,
   "metadata": {},
   "outputs": [
    {
     "name": "stdout",
     "output_type": "stream",
     "text": [
      "tree 34e818d320a6e01009f66d8e512b5813218d21dc\n",
      "parent df3dfdcc3d1ab003339a97b5d4ccdd9242f9ee14\n",
      "author Pablo Aldana <pablo.aldanaveliz@galileo.edu> 1676239577 -0600\n",
      "committer Pablo Aldana <pablo.aldanaveliz@galileo.edu> 1676239577 -0600\n",
      "\n",
      "Se ha avanzado en el ensayo\n",
      "Se agrego el archivo prueba.txt para probar comandos de git\n"
     ]
    }
   ],
   "source": [
    "! git cat-file -p HEAD"
   ]
  },
  {
   "attachments": {},
   "cell_type": "markdown",
   "metadata": {},
   "source": [
    "Como podemos observar se obtuvo el mismo resultado al momento de llamarlo por su hash así como su referencia, que al ser el punto actual es simplemente **HEAD**."
   ]
  },
  {
   "attachments": {},
   "cell_type": "markdown",
   "metadata": {},
   "source": [
    "## Experimento con GIT\n",
    "\n",
    "La clase continúa detallando los diferentes comandos del entorno de GIT. Ya habiendo abarcado las bases de la estructura de GIT y los comandos de código se procede a realizar un experimento creando diferentes ramas dentro del entorno de VScode.\n",
    "\n",
    "VScode nos brinda la facilidad de poder agregar archivos al commit, enviar el commit, subir el repositorio y demás acciondes de GIT en una interfaz más interactiva. De esta forma es que se creó la nueva rama de *main* llamada **Prueba1**."
   ]
  },
  {
   "cell_type": "code",
   "execution_count": 11,
   "metadata": {},
   "outputs": [
    {
     "name": "stdout",
     "output_type": "stream",
     "text": [
      "* f057ed9 (HEAD -> Prueba1, master) Se ha avanzado en el ensayo Se agrego el archivo prueba.txt para probar comandos de git\n",
      "* df3dfdc (origin/master) Esta es la primera prueba de Git desde VScode Se descargó Git a la máquina previo a la subida se utilizaron comandos de git config git config --global user.email \"@galileo.edu\" git config --global user.name \"minombre\" sin estos comandos no me permitía subir el snapshot.\n"
     ]
    }
   ],
   "source": [
    "! git log --all --graph --decorate --oneline"
   ]
  },
  {
   "attachments": {},
   "cell_type": "markdown",
   "metadata": {},
   "source": [
    "Como podemos ver en el último snapshot se observan dos ramas:\n",
    "|Prueba1|master|\n",
    "|:---|:---|\n",
    "|Rama de prueba|Rama principal|\n",
    "\n",
    "El puntero de HEAD nos indica que ahora estamos ubicados en la rama *Prueba1*"
   ]
  },
  {
   "attachments": {},
   "cell_type": "markdown",
   "metadata": {},
   "source": [
    "Procederemos a realizar un nuevo commit con los cambios realizados a este documento y la creación de un archivo llamado Git-prueba\n",
    "Utilizando las referencias se tomaron algunos hash para poder leer el contenido del txt.\n",
    "|Objeto|hash|\n",
    "|:---|:---|\n",
    "|commit |f057ed97|\n",
    "|main tree|34e818d|\n",
    "|folder: Hoja de trabajo 1|4056d91|\n",
    "|file: Git_prueba.txt|72eca971|\n",
    "\n",
    "*Estos numeros se obtuvieron mediante la función:"
   ]
  },
  {
   "cell_type": "code",
   "execution_count": null,
   "metadata": {},
   "outputs": [],
   "source": [
    "! git cat-file -p \"hash\""
   ]
  },
  {
   "cell_type": "code",
   "execution_count": 49,
   "metadata": {},
   "outputs": [
    {
     "name": "stdout",
     "output_type": "stream",
     "text": [
      "La prueba ha sido exitosa!\n"
     ]
    }
   ],
   "source": [
    "! git cat-file -p 72eca971"
   ]
  },
  {
   "attachments": {},
   "cell_type": "markdown",
   "metadata": {},
   "source": [
    "Ya con los resultados de la prueba exitosa subimos el commit."
   ]
  },
  {
   "cell_type": "code",
   "execution_count": 50,
   "metadata": {},
   "outputs": [
    {
     "name": "stdout",
     "output_type": "stream",
     "text": [
      "On branch Prueba1\n",
      "Changes not staged for commit:\n",
      "  (use \"git add <file>...\" to update what will be committed)\n",
      "  (use \"git restore <file>...\" to discard changes in working directory)\n",
      "\tmodified:   HT1.ipynb\n",
      "\n",
      "Untracked files:\n",
      "  (use \"git add <file>...\" to include in what will be committed)\n",
      "\t../Clase 3/\n",
      "\n",
      "no changes added to commit (use \"git add\" and/or \"git commit -a\")\n"
     ]
    }
   ],
   "source": [
    "! git commit"
   ]
  },
  {
   "cell_type": "code",
   "execution_count": null,
   "metadata": {},
   "outputs": [],
   "source": [
    "! git add HT1.ipynb"
   ]
  },
  {
   "cell_type": "code",
   "execution_count": 5,
   "metadata": {},
   "outputs": [
    {
     "name": "stdout",
     "output_type": "stream",
     "text": [
      "* f057ed9 (HEAD -> Prueba1, master) Se ha avanzado en el ensayo Se agrego el archivo prueba.txt para probar comandos de git\n",
      "* df3dfdc (origin/master) Esta es la primera prueba de Git desde VScode Se descargó Git a la máquina previo a la subida se utilizaron comandos de git config git config --global user.email \"@galileo.edu\" git config --global user.name \"minombre\" sin estos comandos no me permitía subir el snapshot.\n"
     ]
    }
   ],
   "source": [
    "! git log --all --graph --decorate --oneline"
   ]
  }
 ],
 "metadata": {
  "kernelspec": {
   "display_name": "Python 3",
   "language": "python",
   "name": "python3"
  },
  "language_info": {
   "codemirror_mode": {
    "name": "ipython",
    "version": 3
   },
   "file_extension": ".py",
   "mimetype": "text/x-python",
   "name": "python",
   "nbconvert_exporter": "python",
   "pygments_lexer": "ipython3",
   "version": "3.10.4"
  },
  "orig_nbformat": 4,
  "vscode": {
   "interpreter": {
    "hash": "c63d8c7d738c2960218a10995aedf0a7f67a49a231e71037adf0440953cdb45b"
   }
  }
 },
 "nbformat": 4,
 "nbformat_minor": 2
}
