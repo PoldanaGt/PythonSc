{
 "cells": [
  {
   "attachments": {},
   "cell_type": "markdown",
   "metadata": {},
   "source": [
    "# **Hoja de Trabajo 1**\n",
    "***Pablo Andrés Aldana Véliz***"
   ]
  },
  {
   "attachments": {},
   "cell_type": "markdown",
   "metadata": {},
   "source": [
    "## Version Control Systems\n",
    "Consiste en un sistema que funciona tomando \"eventos\" del desarrollo de un código o proyecto\n",
    "\n"
   ]
  },
  {
   "attachments": {},
   "cell_type": "markdown",
   "metadata": {},
   "source": [
    "### Estructura de GIT\n",
    "\n",
    "Git funciona como una estructura de *arbol* donde todas las carpetas son consideradas un *arbol* mientras que los archivos dentro de cada carpeta son considerados un *blob*\n",
    "\n",
    "De esta manera podemos tener arboles que contienen arboles que contienen blobs\n",
    "\n",
    "Ejemplo:\n",
    "\n",
    "<img src=\"https://4.bp.blogspot.com/-jMJmo_Imyfo/Xl5JNRga9cI/AAAAAAAAAXA/_PzR3CPGpPkMuhQ1SEWV0D-qnv0WFzn6ACK4BGAYYCw/s1600/1.tree.png\" width=20%>"
   ]
  },
  {
   "attachments": {},
   "cell_type": "markdown",
   "metadata": {},
   "source": [
    "### Snapshots\n",
    "El término de *Snapshot* o *evento* dentro de la estructura de GIT no difiere mucho de lo que sería una copia del proyecto en que estamos trabajando. No muy distinto a lo que ocurre cuando hacemos esto:\n",
    "\n",
    "<img src=\"https://images3.memedroid.com/images/UPLOADED433/5d4f18ee29b2e.jpeg\"  width=50% height=50%>\n",
    "\n",
    "Para GIT esto corresponde a una copia del árbol principal (el cual en teoría contiene todas las carpetas y archivos de nuestro proyecto). Sin embargo GIT cuenta con funcionalidades y arreglos que lo hacen muy superior a seguir nombrando nuestros proyectos como *...RevisadoFinal <sup>n</sup>*."
   ]
  },
  {
   "attachments": {},
   "cell_type": "markdown",
   "metadata": {},
   "source": [
    "### Linea de tiempo\n",
    "\n",
    "Podemos definir la línea de tiempo de GIT como una serie de *Snapshots* tomados a lo largo del tiempo, así como los fotogramas de un video. Cada uno de estos snapshots es lo que consideramos un *Commit*.\n",
    "\n",
    "La ventaja de la estructura de GIT es que permite *partir* esa línea temporal.\n",
    "\n",
    "<img src=\"https://mysteryplanet.com.ar/site/wp-content/uploads/2021/07/universe-branches.jpg\" width=50% height=50%>\n",
    "\n",
    "La mejor analogía podría ser trabajar en una versión anterior a la versión final del proyecto, por alguna razón en específico. Puede ser para desarrollar alguna función que quedó descartada o porque se presenta un problema y es necesario trazar hasta donde el proyecto funciona correctamente.\n",
    "\n",
    "En este caso GIT llevá un control de los cambios realizados a cada *tree* y cada *blob* debtro del árbol principal. Sin embargo su utilidad no se limita en detectar si ha habido un cambio, sino va más allá a:\n",
    "\n",
    "* Detectar *blob* nuevos dentro de cada tree\n",
    "* Reconocer los cambios en *tree* existentes\n",
    "* Actualizar los *tree* con los blob nuevos\n",
    "* Actualizar los *blob* con los cambios realizados\n",
    "* Fusionar uno o varios *blob* con cambios en paralelo\n",
    "\n",
    "De esta forma no tenemos una línea de tiempo partida con infinitos resultados, sino más como una línea de tiempo que converge una o varias veces para resumir todos los cambios en paralelo realizados.\n",
    "\n",
    "<img src=\"https://joefleming.net/images/posts/git-flow-timeline.png\">\n"
   ]
  },
  {
   "attachments": {},
   "cell_type": "markdown",
   "metadata": {},
   "source": [
    "### Objetos en GIT\n",
    "\n",
    "Los objetos en GIT son identificados por su código hash (SHA-1 hash) que es una secuencia hexadecimal de 40 caracteres. Estos objetos son:\n",
    "\n",
    "* Trees\n",
    "* Blobs\n",
    "* Commits\n",
    "\n",
    "<img src=\"https://git-scm.com/book/en/v2/images/data-model-3.png\">\n",
    "\n",
    "Se puede referenciar cada uno de los objetos llamandolos por su codigo hash, aunque es muy inconveniente. Sería más conveniente referenciarlos utilizando nombres comunes como *master* , *head* , *branch1*, etc."
   ]
  },
  {
   "attachments": {},
   "cell_type": "markdown",
   "metadata": {},
   "source": [
    "## Prueba de GIT continuación\n",
    "\n",
    "Ya de vuelta en la rama master observamos que todo nuestro progreso no se ve reflejado ya que se trabajó dentro de la rama prueba.\n",
    "Realizaremos dos pruebas para evidenciar la fusión de los cambios al momento que se unan ambas lineas temporales.\n",
    "\n",
    "1. la actualización del Jupyter notebook\n",
    "2. modificación del archivo de texto"
   ]
  },
  {
   "cell_type": "code",
   "execution_count": 81,
   "metadata": {},
   "outputs": [
    {
     "name": "stdout",
     "output_type": "stream",
     "text": [
      "diff --git a/Hoja de trabajo 1/Git_prueba.txt b/Hoja de trabajo 1/Git_prueba.txt\n",
      "index 72eca97..38994f5 100644\n",
      "--- a/Hoja de trabajo 1/Git_prueba.txt\t\n",
      "+++ b/Hoja de trabajo 1/Git_prueba.txt\t\n",
      "@@ -1 +1 @@\n",
      "-La prueba ha sido exitosa!\n",
      "\\ No newline at end of file\n",
      "+Ya no hay prueba\n",
      "\\ No newline at end of file\n"
     ]
    }
   ],
   "source": [
    "! git diff Git_prueba.txt"
   ]
  },
  {
   "attachments": {},
   "cell_type": "markdown",
   "metadata": {},
   "source": [
    "Viendo la diferencia vamos a crear un nuevo commit con ambos archivos, pero esta vez desde *Master*."
   ]
  },
  {
   "cell_type": "code",
   "execution_count": 83,
   "metadata": {},
   "outputs": [
    {
     "name": "stderr",
     "output_type": "stream",
     "text": [
      "warning: in the working copy of 'Hoja de trabajo 1/HT1.ipynb', LF will be replaced by CRLF the next time Git touches it\n"
     ]
    }
   ],
   "source": [
    "! git add Git_prueba.txt\n",
    "! git add HT1.ipynb"
   ]
  },
  {
   "cell_type": "code",
   "execution_count": 84,
   "metadata": {},
   "outputs": [
    {
     "name": "stdout",
     "output_type": "stream",
     "text": [
      "[master ee6756c] Commit desde la rama master\n",
      " 2 files changed, 61 insertions(+), 2 deletions(-)\n"
     ]
    }
   ],
   "source": [
    "! git commit -m \"Commit desde la rama master\""
   ]
  },
  {
   "attachments": {},
   "cell_type": "markdown",
   "metadata": {},
   "source": [
    "Ahora procedemos a revisar el estado de nuestro git"
   ]
  },
  {
   "cell_type": "code",
   "execution_count": 85,
   "metadata": {},
   "outputs": [
    {
     "name": "stdout",
     "output_type": "stream",
     "text": [
      "* 3ef51f3 (HEAD -> master) commit desde master x2\n",
      "* ee6756c Commit desde la rama master\n",
      "| * 5794338 (Prueba1) conclusion y cambio de rama\n",
      "| * fb60d76 Prueba exitosa\n",
      "|/  \n",
      "* f057ed9 Se ha avanzado en el ensayo Se agrego el archivo prueba.txt para probar comandos de git\n",
      "* df3dfdc (origin/master) Esta es la primera prueba de Git desde VScode Se descargó Git a la máquina previo a la subida se utilizaron comandos de git config git config --global user.email \"@galileo.edu\" git config --global user.name \"minombre\" sin estos comandos no me permitía subir el snapshot.\n"
     ]
    }
   ],
   "source": [
    "! git log --all --graph --decorate --oneline"
   ]
  },
  {
   "attachments": {},
   "cell_type": "markdown",
   "metadata": {},
   "source": [
    "Se evidencia la existencia de dos ramas.\n",
    "Para converger en el proyecto realizaremos un Merge de la Prueba1."
   ]
  },
  {
   "cell_type": "code",
   "execution_count": 86,
   "metadata": {},
   "outputs": [
    {
     "name": "stdout",
     "output_type": "stream",
     "text": [
      "Auto-merging Hoja de trabajo 1/HT1.ipynb\n",
      "CONFLICT (content): Merge conflict in Hoja de trabajo 1/HT1.ipynb\n",
      "Automatic merge failed; fix conflicts and then commit the result.\n"
     ]
    }
   ],
   "source": [
    "! git merge Prueba1"
   ]
  },
  {
   "attachments": {},
   "cell_type": "markdown",
   "metadata": {},
   "source": [
    "Como era de esperar ocurrió un **Errror** al momento de fusionar ambos cambios debido que el jupyter notebook tiene celdas diferentes con ordenes que no pueden ser interpretados por el programa, por lo que es necesario inspeccionar estos cambios manualmente para determinar que hace falta cambiar."
   ]
  },
  {
   "attachments": {},
   "cell_type": "markdown",
   "metadata": {},
   "source": [
    "## Continuación de prueba post Merge\n",
    "\n",
    "Al volver luego del Merge veremos el estado de Git."
   ]
  },
  {
   "cell_type": "code",
   "execution_count": 88,
   "metadata": {},
   "outputs": [
    {
     "name": "stdout",
     "output_type": "stream",
     "text": [
      "*   e18ddb2 (HEAD -> master, origin/master) Merge branch 'Prueba1'\n",
      "|\\  \n",
      "| * 5794338 (Prueba1) conclusion y cambio de rama\n",
      "| * fb60d76 Prueba exitosa\n",
      "* | 3ef51f3 commit desde master x2\n",
      "* | ee6756c Commit desde la rama master\n",
      "|/  \n",
      "* f057ed9 Se ha avanzado en el ensayo Se agrego el archivo prueba.txt para probar comandos de git\n",
      "* df3dfdc Esta es la primera prueba de Git desde VScode Se descargó Git a la máquina previo a la subida se utilizaron comandos de git config git config --global user.email \"@galileo.edu\" git config --global user.name \"minombre\" sin estos comandos no me permitía subir el snapshot.\n"
     ]
    }
   ],
   "source": [
    "! git log --all --graph --decorate --oneline"
   ]
  },
  {
   "cell_type": "code",
   "execution_count": 90,
   "metadata": {},
   "outputs": [
    {
     "name": "stdout",
     "output_type": "stream",
     "text": [
      "diff --git a/Hoja de trabajo 1/Git_prueba.txt b/Hoja de trabajo 1/Git_prueba.txt\n",
      "index 72eca97..38994f5 100644\n",
      "--- a/Hoja de trabajo 1/Git_prueba.txt\t\n",
      "+++ b/Hoja de trabajo 1/Git_prueba.txt\t\n",
      "@@ -1 +1 @@\n",
      "-La prueba ha sido exitosa!\n",
      "\\ No newline at end of file\n",
      "+Ya no hay prueba\n",
      "\\ No newline at end of file\n"
     ]
    }
   ],
   "source": [
    "! git diff prueba1 Git_prueba.txt"
   ]
  },
  {
   "attachments": {},
   "cell_type": "markdown",
   "metadata": {},
   "source": [
    "Podemos observar el que workflow volvió a la rama principal.\n",
    "Debido a la calidad caotica de este ensayo que corre código leyendose así mismo, habrá información dividida entre ambas versiones, pero como conclusión en un código estructurado para trabajar en paralelo no debería existir estos problemas. \n",
    "De igual forma podemos saltar a los snapshots anteriores para verificar qué ha cambiado y recuperar la información que se desee en su momento.\n"
   ]
  },
  {
   "attachments": {},
   "cell_type": "markdown",
   "metadata": {},
   "source": [
    "### CONCLUSIONES\n",
    "\n",
    "1. GIT es un sistema de control de cambios muy poderoso para mantener nuestro código siempre actualizado a la última versión\n",
    "2. Las elegancia de GIT radica en tomar tanto los commit como los objetos dentro del snapshot como objetos y poder llamarlos a conveniencia.\n",
    "3. La colaboración puede realizarse fácilmente al observar que cambios en el código en paralelo pueden ser fácilmente interpretados por GIT y combinados en un mismo código.\n",
    "4. Este repositorio se subirá como un último commit actualizando los cambios de estas conclusiones."
   ]
  }
 ],
 "metadata": {
  "kernelspec": {
   "display_name": "Python 3",
   "language": "python",
   "name": "python3"
  },
  "language_info": {
   "codemirror_mode": {
    "name": "ipython",
    "version": 3
   },
   "file_extension": ".py",
   "mimetype": "text/x-python",
   "name": "python",
   "nbconvert_exporter": "python",
   "pygments_lexer": "ipython3",
   "version": "3.10.4"
  },
  "orig_nbformat": 4,
  "vscode": {
   "interpreter": {
    "hash": "c63d8c7d738c2960218a10995aedf0a7f67a49a231e71037adf0440953cdb45b"
   }
  }
 },
 "nbformat": 4,
 "nbformat_minor": 2
}
